{
 "cells": [
  {
   "cell_type": "markdown",
   "id": "a3091424",
   "metadata": {
    "papermill": {
     "duration": 0.008485,
     "end_time": "2024-05-27T19:19:05.133519",
     "exception": false,
     "start_time": "2024-05-27T19:19:05.125034",
     "status": "completed"
    },
    "tags": []
   },
   "source": [
    "**This notebook is an exercise in the [Python](https://www.kaggle.com/learn/python) course.  You can reference the tutorial at [this link](https://www.kaggle.com/colinmorris/hello-python).**\n",
    "\n",
    "---\n"
   ]
  },
  {
   "cell_type": "markdown",
   "id": "a1249581",
   "metadata": {
    "papermill": {
     "duration": 0.007661,
     "end_time": "2024-05-27T19:19:05.149772",
     "exception": false,
     "start_time": "2024-05-27T19:19:05.142111",
     "status": "completed"
    },
    "tags": []
   },
   "source": [
    "Welcome to your first set of Python coding problems.  If this is your first time using Kaggle Notebooks, welcome! \n",
    "\n",
    "Notebooks are composed of blocks (called \"cells\") of text and code. Each of these is editable, though you'll mainly be editing the code cells to answer some questions.\n",
    "\n",
    "To get started, try running the code cell below (by pressing the ► button, or clicking on the cell and pressing ctrl+enter on your keyboard)."
   ]
  },
  {
   "cell_type": "code",
   "execution_count": 1,
   "id": "ba59308f",
   "metadata": {
    "execution": {
     "iopub.execute_input": "2024-05-27T19:19:05.167611Z",
     "iopub.status.busy": "2024-05-27T19:19:05.167205Z",
     "iopub.status.idle": "2024-05-27T19:19:05.181169Z",
     "shell.execute_reply": "2024-05-27T19:19:05.179717Z"
    },
    "papermill": {
     "duration": 0.025678,
     "end_time": "2024-05-27T19:19:05.183733",
     "exception": false,
     "start_time": "2024-05-27T19:19:05.158055",
     "status": "completed"
    },
    "tags": []
   },
   "outputs": [
    {
     "name": "stdout",
     "output_type": "stream",
     "text": [
      "You've successfully run some Python code\n",
      "Congratulations!\n"
     ]
    }
   ],
   "source": [
    "print(\"You've successfully run some Python code\")\n",
    "print(\"Congratulations!\")"
   ]
  },
  {
   "cell_type": "markdown",
   "id": "e058701a",
   "metadata": {
    "papermill": {
     "duration": 0.007906,
     "end_time": "2024-05-27T19:19:05.200062",
     "exception": false,
     "start_time": "2024-05-27T19:19:05.192156",
     "status": "completed"
    },
    "tags": []
   },
   "source": [
    "Try adding another line of code in the cell above and re-running it. \n",
    "\n",
    "Now let's get a little fancier:  Add a new code cell by clicking on an existing code cell, hitting the escape key, and then hitting the `a` or `b` key.  The `a` key will add a cell above the current cell, and `b` adds a cell below.\n",
    "\n",
    "Great! Now you know how to use Notebooks.\n",
    "\n",
    "Each hands-on exercise starts by setting up our feedback and code checking mechanism. Run the code cell below to do that. Then you'll be ready to move on to question 0."
   ]
  },
  {
   "cell_type": "code",
   "execution_count": 2,
   "id": "662bb7b9",
   "metadata": {
    "_kg_hide-input": true,
    "_kg_hide-output": true,
    "execution": {
     "iopub.execute_input": "2024-05-27T19:19:05.218803Z",
     "iopub.status.busy": "2024-05-27T19:19:05.218378Z",
     "iopub.status.idle": "2024-05-27T19:19:06.036906Z",
     "shell.execute_reply": "2024-05-27T19:19:06.035581Z"
    },
    "papermill": {
     "duration": 0.83153,
     "end_time": "2024-05-27T19:19:06.040175",
     "exception": false,
     "start_time": "2024-05-27T19:19:05.208645",
     "status": "completed"
    },
    "tags": []
   },
   "outputs": [
    {
     "name": "stdout",
     "output_type": "stream",
     "text": [
      "Setup complete! You're ready to start question 0.\n"
     ]
    }
   ],
   "source": [
    "from learntools.core import binder; binder.bind(globals())\n",
    "from learntools.python.ex1 import *\n",
    "print(\"Setup complete! You're ready to start question 0.\")"
   ]
  },
  {
   "cell_type": "markdown",
   "id": "52e1e1c5",
   "metadata": {
    "papermill": {
     "duration": 0.008002,
     "end_time": "2024-05-27T19:19:06.056844",
     "exception": false,
     "start_time": "2024-05-27T19:19:06.048842",
     "status": "completed"
    },
    "tags": []
   },
   "source": [
    "# 0.\n",
    "\n",
    "*This is a silly question intended as an introduction to the format we use for hands-on exercises throughout all Kaggle courses.*\n",
    "\n",
    "**What is your favorite color? **\n",
    "\n",
    "To complete this question, create a variable called `color` in the cell below with an appropriate value. The function call `q0.check()` (which we've already provided in the cell below) will check your answer."
   ]
  },
  {
   "cell_type": "code",
   "execution_count": 3,
   "id": "0d384801",
   "metadata": {
    "execution": {
     "iopub.execute_input": "2024-05-27T19:19:06.075156Z",
     "iopub.status.busy": "2024-05-27T19:19:06.074671Z",
     "iopub.status.idle": "2024-05-27T19:19:06.084932Z",
     "shell.execute_reply": "2024-05-27T19:19:06.083880Z"
    },
    "papermill": {
     "duration": 0.022097,
     "end_time": "2024-05-27T19:19:06.087226",
     "exception": false,
     "start_time": "2024-05-27T19:19:06.065129",
     "status": "completed"
    },
    "tags": []
   },
   "outputs": [
    {
     "data": {
      "application/javascript": [
       "parent.postMessage({\"jupyterEvent\": \"custom.exercise_interaction\", \"data\": {\"outcomeType\": 1, \"valueTowardsCompletion\": 0.25, \"interactionType\": 1, \"questionType\": 2, \"questionId\": \"0_ExerciseFormatTutorial\", \"learnToolsVersion\": \"0.3.4\", \"failureMessage\": \"\", \"exceptionClass\": \"\", \"trace\": \"\"}}, \"*\")"
      ],
      "text/plain": [
       "<IPython.core.display.Javascript object>"
      ]
     },
     "metadata": {},
     "output_type": "display_data"
    },
    {
     "data": {
      "text/markdown": [
       "<span style=\"color:#33cc33\">Correct:</span> What?! You got it right without needing a hint or anything? Drats. Well hey, you should still continue to the next step to get some practice asking for a hint and checking solutions. (Even though you obviously don't need any help here.)"
      ],
      "text/plain": [
       "Correct: What?! You got it right without needing a hint or anything? Drats. Well hey, you should still continue to the next step to get some practice asking for a hint and checking solutions. (Even though you obviously don't need any help here.)"
      ]
     },
     "metadata": {},
     "output_type": "display_data"
    }
   ],
   "source": [
    "# create a variable called color with an appropriate value on the line below\n",
    "# (Remember, strings in Python must be enclosed in 'single' or \"double\" quotes)\n",
    "color = \"blue\";\n",
    "\n",
    "# Check your answer\n",
    "q0.check();"
   ]
  },
  {
   "cell_type": "markdown",
   "id": "a1195d17",
   "metadata": {
    "papermill": {
     "duration": 0.008379,
     "end_time": "2024-05-27T19:19:06.104142",
     "exception": false,
     "start_time": "2024-05-27T19:19:06.095763",
     "status": "completed"
    },
    "tags": []
   },
   "source": [
    "Didn't get the right answer? How do you not even know your own favorite color?!\n",
    "\n",
    "Delete the `#` in the line below to make one of the lines run. You can choose between getting a hint or the full answer by choosing which line to remove the `#` from. \n",
    "\n",
    "Removing the `#` is called uncommenting, because it changes that line from a \"comment\" which Python doesn't run to code, which Python does run."
   ]
  },
  {
   "cell_type": "code",
   "execution_count": 4,
   "id": "4433f81f",
   "metadata": {
    "execution": {
     "iopub.execute_input": "2024-05-27T19:19:06.122836Z",
     "iopub.status.busy": "2024-05-27T19:19:06.122445Z",
     "iopub.status.idle": "2024-05-27T19:19:06.134985Z",
     "shell.execute_reply": "2024-05-27T19:19:06.133990Z"
    },
    "papermill": {
     "duration": 0.024662,
     "end_time": "2024-05-27T19:19:06.137337",
     "exception": false,
     "start_time": "2024-05-27T19:19:06.112675",
     "status": "completed"
    },
    "tags": []
   },
   "outputs": [
    {
     "data": {
      "application/javascript": [
       "parent.postMessage({\"jupyterEvent\": \"custom.exercise_interaction\", \"data\": {\"interactionType\": 2, \"questionType\": 2, \"questionId\": \"0_ExerciseFormatTutorial\", \"learnToolsVersion\": \"0.3.4\", \"valueTowardsCompletion\": 0.0, \"failureMessage\": \"\", \"exceptionClass\": \"\", \"trace\": \"\", \"outcomeType\": 4}}, \"*\")"
      ],
      "text/plain": [
       "<IPython.core.display.Javascript object>"
      ]
     },
     "metadata": {},
     "output_type": "display_data"
    },
    {
     "data": {
      "text/markdown": [
       "<span style=\"color:#3366cc\">Hint:</span> Your favorite color rhymes with *glue*."
      ],
      "text/plain": [
       "Hint: Your favorite color rhymes with *glue*."
      ]
     },
     "metadata": {},
     "output_type": "display_data"
    },
    {
     "data": {
      "application/javascript": [
       "parent.postMessage({\"jupyterEvent\": \"custom.exercise_interaction\", \"data\": {\"interactionType\": 3, \"questionType\": 2, \"questionId\": \"0_ExerciseFormatTutorial\", \"learnToolsVersion\": \"0.3.4\", \"valueTowardsCompletion\": 0.0, \"failureMessage\": \"\", \"exceptionClass\": \"\", \"trace\": \"\", \"outcomeType\": 4}}, \"*\")"
      ],
      "text/plain": [
       "<IPython.core.display.Javascript object>"
      ]
     },
     "metadata": {},
     "output_type": "display_data"
    },
    {
     "data": {
      "text/markdown": [
       "<span style=\"color:#33cc99\">Solution:</span> \n",
       "```python\n",
       "color = \"blue\"\n",
       "```"
      ],
      "text/plain": [
       "Solution: \n",
       "```python\n",
       "color = \"blue\"\n",
       "```"
      ]
     },
     "metadata": {},
     "output_type": "display_data"
    }
   ],
   "source": [
    "q0.hint()\n",
    "q0.solution()"
   ]
  },
  {
   "cell_type": "markdown",
   "id": "0b035e72",
   "metadata": {
    "papermill": {
     "duration": 0.009134,
     "end_time": "2024-05-27T19:19:06.156655",
     "exception": false,
     "start_time": "2024-05-27T19:19:06.147521",
     "status": "completed"
    },
    "tags": []
   },
   "source": [
    "The upcoming questions work the same way. The only thing that will change are the question numbers. For the next question, you'll call `q1.check()`, `q1.hint()`, `q1.solution()`, for question 2, you'll call `q2.check()`, and so on."
   ]
  },
  {
   "cell_type": "markdown",
   "id": "dc2add90",
   "metadata": {
    "papermill": {
     "duration": 0.008963,
     "end_time": "2024-05-27T19:19:06.174909",
     "exception": false,
     "start_time": "2024-05-27T19:19:06.165946",
     "status": "completed"
    },
    "tags": []
   },
   "source": [
    "<hr/>\n",
    "\n",
    "# 1.\n",
    "\n",
    "Complete the code below. In case it's helpful, here is the table of available arithmetic operations:\n",
    "\n",
    "\n",
    "\n",
    "| Operator     | Name           | Description                                            |\n",
    "|--------------|----------------|--------------------------------------------------------|\n",
    "| ``a + b``    | Addition       | Sum of ``a`` and ``b``                                 |\n",
    "| ``a - b``    | Subtraction    | Difference of ``a`` and ``b``                          |\n",
    "| ``a * b``    | Multiplication | Product of ``a`` and ``b``                             |\n",
    "| ``a / b``    | True division  | Quotient of ``a`` and ``b``                            |\n",
    "| ``a // b``   | Floor division | Quotient of ``a`` and ``b``, removing fractional parts |\n",
    "| ``a % b``    | Modulus        | Integer remainder after division of ``a`` by ``b``     |\n",
    "| ``a ** b``   | Exponentiation | ``a`` raised to the power of ``b``                     |\n",
    "| ``-a``       | Negation       | The negative of ``a``                                  |\n",
    "\n",
    "<span style=\"display:none\"></span>\n"
   ]
  },
  {
   "cell_type": "code",
   "execution_count": 5,
   "id": "3bfa7870",
   "metadata": {
    "execution": {
     "iopub.execute_input": "2024-05-27T19:19:06.195223Z",
     "iopub.status.busy": "2024-05-27T19:19:06.194868Z",
     "iopub.status.idle": "2024-05-27T19:19:06.204008Z",
     "shell.execute_reply": "2024-05-27T19:19:06.202971Z"
    },
    "papermill": {
     "duration": 0.021995,
     "end_time": "2024-05-27T19:19:06.206411",
     "exception": false,
     "start_time": "2024-05-27T19:19:06.184416",
     "status": "completed"
    },
    "tags": []
   },
   "outputs": [
    {
     "data": {
      "application/javascript": [
       "parent.postMessage({\"jupyterEvent\": \"custom.exercise_interaction\", \"data\": {\"outcomeType\": 4, \"interactionType\": 1, \"questionType\": 1, \"questionId\": \"1_CircleArea\", \"learnToolsVersion\": \"0.3.4\", \"valueTowardsCompletion\": 0.0, \"failureMessage\": \"\", \"exceptionClass\": \"\", \"trace\": \"\"}}, \"*\")"
      ],
      "text/plain": [
       "<IPython.core.display.Javascript object>"
      ]
     },
     "metadata": {},
     "output_type": "display_data"
    },
    {
     "data": {
      "text/markdown": [
       "<span style=\"color:#ccaa33\">Check:</span> When you've updated the starter code, `check()` will tell you whether your code is correct. Remember, you must create the following variables: `area`, `radius`"
      ],
      "text/plain": [
       "Check: When you've updated the starter code, `check()` will tell you whether your code is correct. Remember, you must create the following variables: `area`, `radius`"
      ]
     },
     "metadata": {},
     "output_type": "display_data"
    }
   ],
   "source": [
    "pi = 3.14159 # approximate\n",
    "diameter = 3\n",
    "\n",
    "# Create a variable called 'radius' equal to half the diameter\n",
    "____\n",
    "\n",
    "# Create a variable called 'area', using the formula for the area of a circle: pi times the radius squared\n",
    "____\n",
    "\n",
    "# Check your answer\n",
    "q1.check()"
   ]
  },
  {
   "cell_type": "code",
   "execution_count": 6,
   "id": "1ccd253e",
   "metadata": {
    "execution": {
     "iopub.execute_input": "2024-05-27T19:19:06.227366Z",
     "iopub.status.busy": "2024-05-27T19:19:06.226645Z",
     "iopub.status.idle": "2024-05-27T19:19:06.231152Z",
     "shell.execute_reply": "2024-05-27T19:19:06.230064Z"
    },
    "papermill": {
     "duration": 0.017633,
     "end_time": "2024-05-27T19:19:06.233527",
     "exception": false,
     "start_time": "2024-05-27T19:19:06.215894",
     "status": "completed"
    },
    "tags": []
   },
   "outputs": [],
   "source": [
    "# Uncomment and run the lines below if you need help.\n",
    "#q1.hint()\n",
    "#q1.solution()"
   ]
  },
  {
   "cell_type": "markdown",
   "id": "177e6f3c",
   "metadata": {
    "papermill": {
     "duration": 0.0095,
     "end_time": "2024-05-27T19:19:06.252756",
     "exception": false,
     "start_time": "2024-05-27T19:19:06.243256",
     "status": "completed"
    },
    "tags": []
   },
   "source": [
    "<hr/>\n",
    "\n",
    "# 2.\n",
    "\n",
    "Add code to the following cell to swap variables `a` and `b` (so that `a` refers to the object previously referred to by `b` and vice versa)."
   ]
  },
  {
   "cell_type": "code",
   "execution_count": 7,
   "id": "72bc880f",
   "metadata": {
    "execution": {
     "iopub.execute_input": "2024-05-27T19:19:06.274837Z",
     "iopub.status.busy": "2024-05-27T19:19:06.274106Z",
     "iopub.status.idle": "2024-05-27T19:19:06.283810Z",
     "shell.execute_reply": "2024-05-27T19:19:06.282871Z"
    },
    "papermill": {
     "duration": 0.023665,
     "end_time": "2024-05-27T19:19:06.286390",
     "exception": false,
     "start_time": "2024-05-27T19:19:06.262725",
     "status": "completed"
    },
    "tags": []
   },
   "outputs": [
    {
     "data": {
      "application/javascript": [
       "parent.postMessage({\"jupyterEvent\": \"custom.exercise_interaction\", \"data\": {\"outcomeType\": 2, \"failureMessage\": \"`a` and `b` still have their original values.\", \"interactionType\": 1, \"questionType\": 2, \"questionId\": \"2_VariableSwap\", \"learnToolsVersion\": \"0.3.4\", \"valueTowardsCompletion\": 0.0, \"exceptionClass\": \"\", \"trace\": \"\"}}, \"*\")"
      ],
      "text/plain": [
       "<IPython.core.display.Javascript object>"
      ]
     },
     "metadata": {},
     "output_type": "display_data"
    },
    {
     "data": {
      "text/markdown": [
       "<span style=\"color:#cc3333\">Incorrect:</span> `a` and `b` still have their original values."
      ],
      "text/plain": [
       "Incorrect: `a` and `b` still have their original values."
      ]
     },
     "metadata": {},
     "output_type": "display_data"
    }
   ],
   "source": [
    "########### Setup code - don't touch this part ######################\n",
    "# If you're curious, these are examples of lists. We'll talk about \n",
    "# them in depth a few lessons from now. For now, just know that they're\n",
    "# yet another type of Python object, like int or float.\n",
    "a = [1, 2, 3]\n",
    "b = [3, 2, 1]\n",
    "q2.store_original_ids()\n",
    "######################################################################\n",
    "\n",
    "# Your code goes here. Swap the values to which a and b refer.\n",
    "# If you get stuck, you can always uncomment one or both of the lines in\n",
    "# the next cell for a hint, or to peek at the solution.\n",
    "\n",
    "######################################################################\n",
    "\n",
    "# Check your answer\n",
    "q2.check()"
   ]
  },
  {
   "cell_type": "code",
   "execution_count": 8,
   "id": "30c196f3",
   "metadata": {
    "execution": {
     "iopub.execute_input": "2024-05-27T19:19:06.309194Z",
     "iopub.status.busy": "2024-05-27T19:19:06.308266Z",
     "iopub.status.idle": "2024-05-27T19:19:06.312800Z",
     "shell.execute_reply": "2024-05-27T19:19:06.311815Z"
    },
    "papermill": {
     "duration": 0.018106,
     "end_time": "2024-05-27T19:19:06.315127",
     "exception": false,
     "start_time": "2024-05-27T19:19:06.297021",
     "status": "completed"
    },
    "tags": []
   },
   "outputs": [],
   "source": [
    "#q2.hint()"
   ]
  },
  {
   "cell_type": "code",
   "execution_count": 9,
   "id": "93820f66",
   "metadata": {
    "execution": {
     "iopub.execute_input": "2024-05-27T19:19:06.337880Z",
     "iopub.status.busy": "2024-05-27T19:19:06.337157Z",
     "iopub.status.idle": "2024-05-27T19:19:06.341741Z",
     "shell.execute_reply": "2024-05-27T19:19:06.340704Z"
    },
    "papermill": {
     "duration": 0.018527,
     "end_time": "2024-05-27T19:19:06.344129",
     "exception": false,
     "start_time": "2024-05-27T19:19:06.325602",
     "status": "completed"
    },
    "tags": []
   },
   "outputs": [],
   "source": [
    "#q2.solution()"
   ]
  },
  {
   "cell_type": "markdown",
   "id": "657a918e",
   "metadata": {
    "papermill": {
     "duration": 0.009974,
     "end_time": "2024-05-27T19:19:06.364366",
     "exception": false,
     "start_time": "2024-05-27T19:19:06.354392",
     "status": "completed"
    },
    "tags": []
   },
   "source": [
    "<hr/>\n",
    "\n",
    "# 3a.\n",
    "\n",
    "Add parentheses to the following expression so that it evaluates to 1."
   ]
  },
  {
   "cell_type": "code",
   "execution_count": 10,
   "id": "4782fda7",
   "metadata": {
    "execution": {
     "iopub.execute_input": "2024-05-27T19:19:06.386978Z",
     "iopub.status.busy": "2024-05-27T19:19:06.386000Z",
     "iopub.status.idle": "2024-05-27T19:19:06.392867Z",
     "shell.execute_reply": "2024-05-27T19:19:06.391846Z"
    },
    "papermill": {
     "duration": 0.020625,
     "end_time": "2024-05-27T19:19:06.395167",
     "exception": false,
     "start_time": "2024-05-27T19:19:06.374542",
     "status": "completed"
    },
    "tags": []
   },
   "outputs": [
    {
     "data": {
      "text/plain": [
       "4"
      ]
     },
     "execution_count": 10,
     "metadata": {},
     "output_type": "execute_result"
    }
   ],
   "source": [
    "5 - 3 // 2"
   ]
  },
  {
   "cell_type": "code",
   "execution_count": 11,
   "id": "9e252f25",
   "metadata": {
    "execution": {
     "iopub.execute_input": "2024-05-27T19:19:06.418470Z",
     "iopub.status.busy": "2024-05-27T19:19:06.417531Z",
     "iopub.status.idle": "2024-05-27T19:19:06.422274Z",
     "shell.execute_reply": "2024-05-27T19:19:06.421231Z"
    },
    "papermill": {
     "duration": 0.018856,
     "end_time": "2024-05-27T19:19:06.424657",
     "exception": false,
     "start_time": "2024-05-27T19:19:06.405801",
     "status": "completed"
    },
    "tags": []
   },
   "outputs": [],
   "source": [
    "#q3.a.hint()"
   ]
  },
  {
   "cell_type": "code",
   "execution_count": 12,
   "id": "3e45e878",
   "metadata": {
    "execution": {
     "iopub.execute_input": "2024-05-27T19:19:06.447897Z",
     "iopub.status.busy": "2024-05-27T19:19:06.447108Z",
     "iopub.status.idle": "2024-05-27T19:19:06.455726Z",
     "shell.execute_reply": "2024-05-27T19:19:06.454689Z"
    },
    "papermill": {
     "duration": 0.02302,
     "end_time": "2024-05-27T19:19:06.458181",
     "exception": false,
     "start_time": "2024-05-27T19:19:06.435161",
     "status": "completed"
    },
    "tags": []
   },
   "outputs": [
    {
     "data": {
      "application/javascript": [
       "parent.postMessage({\"jupyterEvent\": \"custom.exercise_interaction\", \"data\": {\"interactionType\": 3, \"questionType\": 4, \"questionId\": \"3.1_ArithmeticParensEasy\", \"learnToolsVersion\": \"0.3.4\", \"valueTowardsCompletion\": 0.0, \"failureMessage\": \"\", \"exceptionClass\": \"\", \"trace\": \"\", \"outcomeType\": 4}}, \"*\")"
      ],
      "text/plain": [
       "<IPython.core.display.Javascript object>"
      ]
     },
     "metadata": {},
     "output_type": "display_data"
    },
    {
     "data": {
      "text/markdown": [
       "<span style=\"color:#33cc99\">Solution:</span> \n",
       "```python\n",
       "(5 - 3) // 2\n",
       "```"
      ],
      "text/plain": [
       "Solution: \n",
       "```python\n",
       "(5 - 3) // 2\n",
       "```"
      ]
     },
     "metadata": {},
     "output_type": "display_data"
    }
   ],
   "source": [
    "# Check your answer (Run this code cell to receive credit!)\n",
    "q3.a.solution()"
   ]
  },
  {
   "cell_type": "markdown",
   "id": "02093bdf",
   "metadata": {
    "papermill": {
     "duration": 0.010669,
     "end_time": "2024-05-27T19:19:06.479885",
     "exception": false,
     "start_time": "2024-05-27T19:19:06.469216",
     "status": "completed"
    },
    "tags": []
   },
   "source": [
    "# 3b.  <span title=\"A bit spicy\" style=\"color: darkgreen \">🌶️</span>\n",
    "\n",
    "<small>Questions, like this one, marked a spicy pepper are a bit harder.</small>\n",
    "\n",
    "Add parentheses to the following expression so that it evaluates to 0."
   ]
  },
  {
   "cell_type": "code",
   "execution_count": 13,
   "id": "773ca260",
   "metadata": {
    "execution": {
     "iopub.execute_input": "2024-05-27T19:19:06.503645Z",
     "iopub.status.busy": "2024-05-27T19:19:06.503226Z",
     "iopub.status.idle": "2024-05-27T19:19:06.510043Z",
     "shell.execute_reply": "2024-05-27T19:19:06.509058Z"
    },
    "papermill": {
     "duration": 0.021412,
     "end_time": "2024-05-27T19:19:06.512492",
     "exception": false,
     "start_time": "2024-05-27T19:19:06.491080",
     "status": "completed"
    },
    "tags": []
   },
   "outputs": [
    {
     "data": {
      "text/plain": [
       "2"
      ]
     },
     "execution_count": 13,
     "metadata": {},
     "output_type": "execute_result"
    }
   ],
   "source": [
    "8 - 3 * 2 - 1 + 1"
   ]
  },
  {
   "cell_type": "code",
   "execution_count": 14,
   "id": "ba0d4ff9",
   "metadata": {
    "execution": {
     "iopub.execute_input": "2024-05-27T19:19:06.537116Z",
     "iopub.status.busy": "2024-05-27T19:19:06.536187Z",
     "iopub.status.idle": "2024-05-27T19:19:06.540816Z",
     "shell.execute_reply": "2024-05-27T19:19:06.539781Z"
    },
    "papermill": {
     "duration": 0.019368,
     "end_time": "2024-05-27T19:19:06.543048",
     "exception": false,
     "start_time": "2024-05-27T19:19:06.523680",
     "status": "completed"
    },
    "tags": []
   },
   "outputs": [],
   "source": [
    "#q3.b.hint()"
   ]
  },
  {
   "cell_type": "code",
   "execution_count": 15,
   "id": "48fdcedc",
   "metadata": {
    "execution": {
     "iopub.execute_input": "2024-05-27T19:19:06.567360Z",
     "iopub.status.busy": "2024-05-27T19:19:06.566973Z",
     "iopub.status.idle": "2024-05-27T19:19:06.575491Z",
     "shell.execute_reply": "2024-05-27T19:19:06.574420Z"
    },
    "papermill": {
     "duration": 0.023657,
     "end_time": "2024-05-27T19:19:06.577895",
     "exception": false,
     "start_time": "2024-05-27T19:19:06.554238",
     "status": "completed"
    },
    "tags": []
   },
   "outputs": [
    {
     "data": {
      "application/javascript": [
       "parent.postMessage({\"jupyterEvent\": \"custom.exercise_interaction\", \"data\": {\"interactionType\": 3, \"questionType\": 4, \"questionId\": \"3.2_ArithmeticParensHard\", \"learnToolsVersion\": \"0.3.4\", \"valueTowardsCompletion\": 0.0, \"failureMessage\": \"\", \"exceptionClass\": \"\", \"trace\": \"\", \"outcomeType\": 4}}, \"*\")"
      ],
      "text/plain": [
       "<IPython.core.display.Javascript object>"
      ]
     },
     "metadata": {},
     "output_type": "display_data"
    },
    {
     "data": {
      "text/markdown": [
       "<span style=\"color:#33cc99\">Solution:</span> `(8 - 3) * (2 - (1 + 1))` is one solution. There may be others."
      ],
      "text/plain": [
       "Solution: `(8 - 3) * (2 - (1 + 1))` is one solution. There may be others."
      ]
     },
     "metadata": {},
     "output_type": "display_data"
    }
   ],
   "source": [
    "# Check your answer (Run this code cell to receive credit!)\n",
    "q3.b.solution()"
   ]
  },
  {
   "cell_type": "markdown",
   "id": "0d8b5d95",
   "metadata": {
    "papermill": {
     "duration": 0.011453,
     "end_time": "2024-05-27T19:19:06.600945",
     "exception": false,
     "start_time": "2024-05-27T19:19:06.589492",
     "status": "completed"
    },
    "tags": []
   },
   "source": [
    "<hr/>\n",
    "\n",
    "# 4. \n",
    "Alice, Bob and Carol have agreed to pool their Halloween candy and split it evenly among themselves.\n",
    "For the sake of their friendship, any candies left over will be smashed. For example, if they collectively\n",
    "bring home 91 candies, they'll take 30 each and smash 1.\n",
    "\n",
    "Write an arithmetic expression below to calculate how many candies they must smash for a given haul."
   ]
  },
  {
   "cell_type": "code",
   "execution_count": 16,
   "id": "77350741",
   "metadata": {
    "execution": {
     "iopub.execute_input": "2024-05-27T19:19:06.626344Z",
     "iopub.status.busy": "2024-05-27T19:19:06.625440Z",
     "iopub.status.idle": "2024-05-27T19:19:06.634861Z",
     "shell.execute_reply": "2024-05-27T19:19:06.633821Z"
    },
    "papermill": {
     "duration": 0.024552,
     "end_time": "2024-05-27T19:19:06.637124",
     "exception": false,
     "start_time": "2024-05-27T19:19:06.612572",
     "status": "completed"
    },
    "tags": []
   },
   "outputs": [
    {
     "data": {
      "application/javascript": [
       "parent.postMessage({\"jupyterEvent\": \"custom.exercise_interaction\", \"data\": {\"outcomeType\": 4, \"interactionType\": 1, \"questionType\": 1, \"questionId\": \"4_CandySplitting\", \"learnToolsVersion\": \"0.3.4\", \"valueTowardsCompletion\": 0.0, \"failureMessage\": \"\", \"exceptionClass\": \"\", \"trace\": \"\"}}, \"*\")"
      ],
      "text/plain": [
       "<IPython.core.display.Javascript object>"
      ]
     },
     "metadata": {},
     "output_type": "display_data"
    },
    {
     "data": {
      "text/markdown": [
       "<span style=\"color:#ccaa33\">Check:</span> When you've updated the starter code, `check()` will tell you whether your code is correct. You need to update the code that creates variable `to_smash`"
      ],
      "text/plain": [
       "Check: When you've updated the starter code, `check()` will tell you whether your code is correct. You need to update the code that creates variable `to_smash`"
      ]
     },
     "metadata": {},
     "output_type": "display_data"
    }
   ],
   "source": [
    "# Variables representing the number of candies collected by alice, bob, and carol\n",
    "alice_candies = 121\n",
    "bob_candies = 77\n",
    "carol_candies = 109\n",
    "\n",
    "# Your code goes here! Replace the right-hand side of this assignment with an expression\n",
    "# involving alice_candies, bob_candies, and carol_candies\n",
    "to_smash = -1\n",
    "\n",
    "# Check your answer\n",
    "q4.check()"
   ]
  },
  {
   "cell_type": "code",
   "execution_count": 17,
   "id": "502e4314",
   "metadata": {
    "execution": {
     "iopub.execute_input": "2024-05-27T19:19:06.662607Z",
     "iopub.status.busy": "2024-05-27T19:19:06.662198Z",
     "iopub.status.idle": "2024-05-27T19:19:06.666546Z",
     "shell.execute_reply": "2024-05-27T19:19:06.665545Z"
    },
    "papermill": {
     "duration": 0.019857,
     "end_time": "2024-05-27T19:19:06.668745",
     "exception": false,
     "start_time": "2024-05-27T19:19:06.648888",
     "status": "completed"
    },
    "tags": []
   },
   "outputs": [],
   "source": [
    "#q4.hint()\n",
    "#q4.solution()"
   ]
  },
  {
   "cell_type": "markdown",
   "id": "04e6e920",
   "metadata": {
    "papermill": {
     "duration": 0.011751,
     "end_time": "2024-05-27T19:19:06.692596",
     "exception": false,
     "start_time": "2024-05-27T19:19:06.680845",
     "status": "completed"
    },
    "tags": []
   },
   "source": [
    "# Keep Going\n",
    "\n",
    "Next up, you'll **[learn to write new functions and understand functions others write](https://www.kaggle.com/colinmorris/functions-and-getting-help)**. This will make you at least 10 times more productive as a Python programmer. "
   ]
  },
  {
   "cell_type": "markdown",
   "id": "e4ec679f",
   "metadata": {
    "papermill": {
     "duration": 0.011642,
     "end_time": "2024-05-27T19:19:06.716441",
     "exception": false,
     "start_time": "2024-05-27T19:19:06.704799",
     "status": "completed"
    },
    "tags": []
   },
   "source": [
    "---\n",
    "\n",
    "\n",
    "\n",
    "\n",
    "*Have questions or comments? Visit the [course discussion forum](https://www.kaggle.com/learn/python/discussion) to chat with other learners.*"
   ]
  }
 ],
 "metadata": {
  "kaggle": {
   "accelerator": "none",
   "dataSources": [],
   "isGpuEnabled": false,
   "isInternetEnabled": false,
   "language": "python",
   "sourceType": "notebook"
  },
  "kernelspec": {
   "display_name": "Python 3",
   "language": "python",
   "name": "python3"
  },
  "language_info": {
   "codemirror_mode": {
    "name": "ipython",
    "version": 3
   },
   "file_extension": ".py",
   "mimetype": "text/x-python",
   "name": "python",
   "nbconvert_exporter": "python",
   "pygments_lexer": "ipython3",
   "version": "3.10.13"
  },
  "learntools_metadata": {
   "lesson_index": 0,
   "type": "exercise"
  },
  "papermill": {
   "default_parameters": {},
   "duration": 4.953073,
   "end_time": "2024-05-27T19:19:07.148998",
   "environment_variables": {},
   "exception": null,
   "input_path": "__notebook__.ipynb",
   "output_path": "__notebook__.ipynb",
   "parameters": {},
   "start_time": "2024-05-27T19:19:02.195925",
   "version": "2.5.0"
  }
 },
 "nbformat": 4,
 "nbformat_minor": 5
}
